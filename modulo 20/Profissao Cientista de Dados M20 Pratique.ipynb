{
 "cells": [
  {
   "cell_type": "markdown",
   "metadata": {
    "id": "lvRbB9YTnI2b"
   },
   "source": [
    "# **MÓDULO 20 - Projeto de Credit Score - Naive Bayes**\n"
   ]
  },
  {
   "cell_type": "markdown",
   "metadata": {
    "id": "2zVrW4i5npnM"
   },
   "source": [
    "No módulo 17 vocês realizaram a primeira etapa do projeto de crédito de vocês.\n",
    "Então fizeram o tratamendo dos dados, balancearam as classes, transformaram as variáveis categóricas e separam base de treino e teste.\n",
    "Nessa aula aplicaremos o algoritmo de naive bayes a base de vocês afim de tentarmos trazer previsões do score de crédito."
   ]
  },
  {
   "cell_type": "markdown",
   "metadata": {
    "id": "1nq9f0l2oP0W"
   },
   "source": [
    "**IMPORTANTE:** Não se esqueçam de ao enviar o código de vocês para os tutores, enviarem as bases, pois como cada um de vocês realizou as alterações de tratamento indidualmente o tutor precisa ter acesso aos seus dados individuais."
   ]
  },
  {
   "cell_type": "code",
   "execution_count": 22,
   "metadata": {
    "id": "M90JWP5pmrea"
   },
   "outputs": [],
   "source": [
    "import pandas as pd\n",
    "import numpy as np\n",
    "import seaborn as sns\n",
    "import matplotlib.pyplot as plt\n",
    "from sklearn.metrics import confusion_matrix\n",
    "from sklearn.naive_bayes import GaussianNB\n",
    "from sklearn.metrics import accuracy_score\n",
    "from sklearn.metrics import recall_score\n",
    "from sklearn.model_selection import train_test_split\n",
    "from sklearn.impute import SimpleImputer\n",
    "from sklearn.metrics import classification_report"
   ]
  },
  {
   "cell_type": "code",
   "execution_count": 23,
   "metadata": {},
   "outputs": [
    {
     "data": {
      "text/html": [
       "<div>\n",
       "<style scoped>\n",
       "    .dataframe tbody tr th:only-of-type {\n",
       "        vertical-align: middle;\n",
       "    }\n",
       "\n",
       "    .dataframe tbody tr th {\n",
       "        vertical-align: top;\n",
       "    }\n",
       "\n",
       "    .dataframe thead th {\n",
       "        text-align: right;\n",
       "    }\n",
       "</style>\n",
       "<table border=\"1\" class=\"dataframe\">\n",
       "  <thead>\n",
       "    <tr style=\"text-align: right;\">\n",
       "      <th></th>\n",
       "      <th>Age</th>\n",
       "      <th>Gender</th>\n",
       "      <th>Income</th>\n",
       "      <th>Education</th>\n",
       "      <th>Marital Status</th>\n",
       "      <th>Number of Children</th>\n",
       "      <th>Home Ownership</th>\n",
       "      <th>Credit Score</th>\n",
       "      <th>Credit Score Num</th>\n",
       "    </tr>\n",
       "  </thead>\n",
       "  <tbody>\n",
       "    <tr>\n",
       "      <th>0</th>\n",
       "      <td>25.0</td>\n",
       "      <td>Female</td>\n",
       "      <td>50000.0</td>\n",
       "      <td>Bachelor's Degree</td>\n",
       "      <td>Single</td>\n",
       "      <td>0</td>\n",
       "      <td>Rented</td>\n",
       "      <td>High</td>\n",
       "      <td>800</td>\n",
       "    </tr>\n",
       "    <tr>\n",
       "      <th>1</th>\n",
       "      <td>30.0</td>\n",
       "      <td>Male</td>\n",
       "      <td>100000.0</td>\n",
       "      <td>Master's Degree</td>\n",
       "      <td>Married</td>\n",
       "      <td>2</td>\n",
       "      <td>Owned</td>\n",
       "      <td>High</td>\n",
       "      <td>800</td>\n",
       "    </tr>\n",
       "    <tr>\n",
       "      <th>2</th>\n",
       "      <td>35.0</td>\n",
       "      <td>Female</td>\n",
       "      <td>75000.0</td>\n",
       "      <td>Doctorate</td>\n",
       "      <td>Married</td>\n",
       "      <td>1</td>\n",
       "      <td>Owned</td>\n",
       "      <td>High</td>\n",
       "      <td>800</td>\n",
       "    </tr>\n",
       "    <tr>\n",
       "      <th>3</th>\n",
       "      <td>40.0</td>\n",
       "      <td>Male</td>\n",
       "      <td>125000.0</td>\n",
       "      <td>High School Diploma</td>\n",
       "      <td>Single</td>\n",
       "      <td>0</td>\n",
       "      <td>Owned</td>\n",
       "      <td>High</td>\n",
       "      <td>800</td>\n",
       "    </tr>\n",
       "    <tr>\n",
       "      <th>4</th>\n",
       "      <td>45.0</td>\n",
       "      <td>Female</td>\n",
       "      <td>100000.0</td>\n",
       "      <td>Bachelor's Degree</td>\n",
       "      <td>Married</td>\n",
       "      <td>3</td>\n",
       "      <td>Owned</td>\n",
       "      <td>High</td>\n",
       "      <td>800</td>\n",
       "    </tr>\n",
       "    <tr>\n",
       "      <th>5</th>\n",
       "      <td>50.0</td>\n",
       "      <td>Male</td>\n",
       "      <td>150000.0</td>\n",
       "      <td>Master's Degree</td>\n",
       "      <td>Married</td>\n",
       "      <td>0</td>\n",
       "      <td>Owned</td>\n",
       "      <td>High</td>\n",
       "      <td>800</td>\n",
       "    </tr>\n",
       "    <tr>\n",
       "      <th>6</th>\n",
       "      <td>26.0</td>\n",
       "      <td>Female</td>\n",
       "      <td>40000.0</td>\n",
       "      <td>Associate's Degree</td>\n",
       "      <td>Single</td>\n",
       "      <td>0</td>\n",
       "      <td>Rented</td>\n",
       "      <td>Average</td>\n",
       "      <td>650</td>\n",
       "    </tr>\n",
       "    <tr>\n",
       "      <th>7</th>\n",
       "      <td>31.0</td>\n",
       "      <td>Male</td>\n",
       "      <td>60000.0</td>\n",
       "      <td>Bachelor's Degree</td>\n",
       "      <td>Single</td>\n",
       "      <td>0</td>\n",
       "      <td>Rented</td>\n",
       "      <td>Average</td>\n",
       "      <td>650</td>\n",
       "    </tr>\n",
       "    <tr>\n",
       "      <th>8</th>\n",
       "      <td>NaN</td>\n",
       "      <td>Female</td>\n",
       "      <td>80000.0</td>\n",
       "      <td>Master's Degree</td>\n",
       "      <td>Married</td>\n",
       "      <td>2</td>\n",
       "      <td>Owned</td>\n",
       "      <td>High</td>\n",
       "      <td>800</td>\n",
       "    </tr>\n",
       "    <tr>\n",
       "      <th>9</th>\n",
       "      <td>NaN</td>\n",
       "      <td>Male</td>\n",
       "      <td>105000.0</td>\n",
       "      <td>Doctorate</td>\n",
       "      <td>Single</td>\n",
       "      <td>0</td>\n",
       "      <td>Owned</td>\n",
       "      <td>High</td>\n",
       "      <td>800</td>\n",
       "    </tr>\n",
       "  </tbody>\n",
       "</table>\n",
       "</div>"
      ],
      "text/plain": [
       "    Age  Gender    Income            Education Marital Status  \\\n",
       "0  25.0  Female   50000.0    Bachelor's Degree         Single   \n",
       "1  30.0    Male  100000.0      Master's Degree        Married   \n",
       "2  35.0  Female   75000.0            Doctorate        Married   \n",
       "3  40.0    Male  125000.0  High School Diploma         Single   \n",
       "4  45.0  Female  100000.0    Bachelor's Degree        Married   \n",
       "5  50.0    Male  150000.0      Master's Degree        Married   \n",
       "6  26.0  Female   40000.0   Associate's Degree         Single   \n",
       "7  31.0    Male   60000.0    Bachelor's Degree         Single   \n",
       "8   NaN  Female   80000.0      Master's Degree        Married   \n",
       "9   NaN    Male  105000.0            Doctorate         Single   \n",
       "\n",
       "   Number of Children Home Ownership Credit Score  Credit Score Num  \n",
       "0                   0         Rented         High               800  \n",
       "1                   2          Owned         High               800  \n",
       "2                   1          Owned         High               800  \n",
       "3                   0          Owned         High               800  \n",
       "4                   3          Owned         High               800  \n",
       "5                   0          Owned         High               800  \n",
       "6                   0         Rented      Average               650  \n",
       "7                   0         Rented      Average               650  \n",
       "8                   2          Owned         High               800  \n",
       "9                   0          Owned         High               800  "
      ]
     },
     "execution_count": 23,
     "metadata": {},
     "output_type": "execute_result"
    }
   ],
   "source": [
    "df =pd.read_csv(r\"C:\\Users\\Léo\\Downloads\\ciencia de dados\\modulo 20\\CREDIT_SCORE_M20.csv\" )\n",
    "\n",
    "df.head(10)"
   ]
  },
  {
   "cell_type": "markdown",
   "metadata": {
    "id": "C7R8dM-vokBB"
   },
   "source": [
    "Durante a aula nossa variável a ser prevista (churn) continha apenas 2 categorias, a base de vocês contém mais. O Naive Bayes pode ser aplicado para problemas de classificação com múltiplas classes da mesma forma que para problemas de classificação binária. O Naive Bayes é um algoritmo de classificação probabilístico que calcula a probabilidade de uma amostra pertencer a cada classe e seleciona a classe com a maior probabilidade como a previsão final.\n",
    "Em resumo, o Naive Bayes pode ser aplicado da mesma maneira para problemas de classificação com múltiplas classes, e os mesmos princípios se aplicam em termos de treinamento, avaliação e aplicação do modelo."
   ]
  },
  {
   "cell_type": "markdown",
   "metadata": {
    "id": "EbxeVNuirXtI"
   },
   "source": [
    "# 1) Comece carregando as bases de treino (X e y) e teste (X e y).\n",
    "Verifique se o número de linhas condiz, se as variáveis estão corretas sendo apenas a de score para y e as demais nas bases de X e por último, se Y está balanceada no teste."
   ]
  },
  {
   "cell_type": "code",
   "execution_count": 24,
   "metadata": {
    "id": "sKOiJU6WrsA_"
   },
   "outputs": [
    {
     "name": "stdout",
     "output_type": "stream",
     "text": [
      "Dimensão total da base: (164, 9)\n",
      "Linhas treino: 114  | Linhas teste: 50\n",
      "Variáveis em X: ['Age', 'Gender', 'Income', 'Education', 'Marital Status', 'Number of Children', 'Home Ownership']\n",
      "Variável em y: Credit Score\n",
      "\n",
      "Distribuição de Y no teste:\n",
      "Credit Score\n",
      "High       0.68\n",
      "Average    0.22\n",
      "Low        0.10\n",
      "Name: proportion, dtype: float64\n"
     ]
    }
   ],
   "source": [
    "X = df.drop(columns=['Credit Score', 'Credit Score Num'])\n",
    "y = df[ 'Credit Score']\n",
    "\n",
    "X_train, X_test, y_train, y_test = train_test_split(\n",
    "    X,y, test_size=0.3, random_state=42, stratify=y\n",
    ")\n",
    "\n",
    "print(\"Dimensão total da base:\", df.shape)\n",
    "print(\"Linhas treino:\", X_train.shape[0], \" | Linhas teste:\", X_test.shape[0])\n",
    "print(\"Variáveis em X:\", X.columns.tolist())\n",
    "print(\"Variável em y:\", y.name)\n",
    "\n",
    "print(\"\\nDistribuição de Y no teste:\")\n",
    "print(y_test.value_counts(normalize=True))"
   ]
  },
  {
   "cell_type": "markdown",
   "metadata": {
    "id": "1NWQ6Wu1s3UF"
   },
   "source": [
    "# 2) Aplique o algoritmo de Naive Bayes aos dados de treinamento."
   ]
  },
  {
   "cell_type": "code",
   "execution_count": 25,
   "metadata": {
    "id": "H0hjx3BztAOk"
   },
   "outputs": [
    {
     "name": "stdout",
     "output_type": "stream",
     "text": [
      "Acurácia: 1.0\n",
      "\n",
      "Relatório de classificação:\n",
      "              precision    recall  f1-score   support\n",
      "\n",
      "     Average       1.00      1.00      1.00        11\n",
      "        High       1.00      1.00      1.00        34\n",
      "         Low       1.00      1.00      1.00         5\n",
      "\n",
      "    accuracy                           1.00        50\n",
      "   macro avg       1.00      1.00      1.00        50\n",
      "weighted avg       1.00      1.00      1.00        50\n",
      "\n",
      "\n",
      "Matriz de confusão:\n",
      "[[11  0  0]\n",
      " [ 0 34  0]\n",
      " [ 0  0  5]]\n"
     ]
    }
   ],
   "source": [
    "df.columns = df.columns.str.strip()\n",
    "\n",
    "X = pd.get_dummies(X, drop_first=True)\n",
    "\n",
    "imputer = SimpleImputer(strategy='mean')  \n",
    "X = pd.DataFrame(imputer.fit_transform(X), columns=X.columns)\n",
    "\n",
    "X_train, X_test, y_train, y_test = train_test_split(\n",
    "    X, y, test_size=0.3, random_state=42, stratify=y\n",
    ")\n",
    "\n",
    "nb = GaussianNB()\n",
    "nb.fit(X_train, y_train)\n",
    "\n",
    "y_pred = nb.predict(X_test)\n",
    "\n",
    "# Avaliação\n",
    "print(\"Acurácia:\", accuracy_score(y_test, y_pred))\n",
    "print(\"\\nRelatório de classificação:\")\n",
    "print(classification_report(y_test, y_pred))\n",
    "print(\"\\nMatriz de confusão:\")\n",
    "print(confusion_matrix(y_test, y_pred))\n"
   ]
  },
  {
   "cell_type": "markdown",
   "metadata": {
    "id": "7m7zKlOnt1--"
   },
   "source": [
    "# 3) Faça a avaliação do modelo com os dados de treinamento.\n",
    "Traga a acurácia, recall e plote a matriz de confusão. Não se esqueça de avaliar com suas palavras o desempenho do modelo, interpretando as métricas."
   ]
  },
  {
   "cell_type": "markdown",
   "metadata": {
    "id": "5neq107RveMm"
   },
   "source": [
    "Dica: Para calcularmos o recall em classificação multi classe precisamos usar o atributo macro:\n",
    "recall = recall_score(y_train, y_pred_train, average='macro')"
   ]
  },
  {
   "cell_type": "code",
   "execution_count": 26,
   "metadata": {
    "id": "AjJ2CriPt0rh"
   },
   "outputs": [
    {
     "name": "stdout",
     "output_type": "stream",
     "text": [
      "Acurácia no treino: 0.9824561403508771\n",
      "Recall (macro) no treino: 0.9824472573839662\n",
      "\n",
      "Matriz de confusão no treino:\n",
      "[[24  1  0]\n",
      " [ 1 78  0]\n",
      " [ 0  0 10]]\n"
     ]
    },
    {
     "data": {
      "image/png": "[encoded data removed]",
      "text/plain": [
       "<Figure size 600x500 with 2 Axes>"
      ]
     },
     "metadata": {},
     "output_type": "display_data"
    }
   ],
   "source": [
    "y_pred_train = nb.predict(X_train)\n",
    "\n",
    "accuracy_train = accuracy_score(y_train, y_pred_train)\n",
    "recall_train = recall_score(y_train, y_pred_train, average='macro')\n",
    "\n",
    "print(\"Acurácia no treino:\", accuracy_train)\n",
    "print(\"Recall (macro) no treino:\", recall_train)\n",
    "\n",
    "cm_train = confusion_matrix(y_train, y_pred_train)\n",
    "print(\"\\nMatriz de confusão no treino:\")\n",
    "print(cm_train)\n",
    "\n",
    "plt.figure(figsize=(6,5))\n",
    "sns.heatmap(cm_train, annot=True, fmt='d', cmap='Blues', xticklabels=nb.classes_, yticklabels=nb.classes_)\n",
    "plt.xlabel('Predito')\n",
    "plt.ylabel('Real')\n",
    "plt.title('Matriz de Confusão - Treino')\n",
    "plt.show()"
   ]
  },
  {
   "cell_type": "markdown",
   "metadata": {
    "id": "-WVs2h6ovta6"
   },
   "source": [
    "# 4) Aplique o modelo aos dados de teste e realize a avaliação dos resultados, da mesma forma que fez acima. Não se esqueça de avaliar com as suas palavras e comparar o desempenho da base treino com a teste."
   ]
  },
  {
   "cell_type": "code",
   "execution_count": 27,
   "metadata": {
    "id": "PXswiQprv5pw"
   },
   "outputs": [
    {
     "name": "stdout",
     "output_type": "stream",
     "text": [
      "Acurácia no teste: 1.0\n",
      "Recall (macro) no teste: 1.0\n",
      "\n",
      "Matriz de confusão no teste:\n",
      "[[11  0  0]\n",
      " [ 0 34  0]\n",
      " [ 0  0  5]]\n"
     ]
    },
    {
     "data": {
      "image/png": "[encoded data removed]",
      "text/plain": [
       "<Figure size 600x500 with 2 Axes>"
      ]
     },
     "metadata": {},
     "output_type": "display_data"
    }
   ],
   "source": [
    "y_pred_test = nb.predict(X_test)\n",
    "\n",
    "accuracy_test = accuracy_score(y_test, y_pred_test)\n",
    "recall_test = recall_score(y_test, y_pred_test, average='macro')\n",
    "\n",
    "print(\"Acurácia no teste:\", accuracy_test)\n",
    "print(\"Recall (macro) no teste:\", recall_test)\n",
    "\n",
    "cm_test = confusion_matrix(y_test, y_pred_test)\n",
    "print(\"\\nMatriz de confusão no teste:\")\n",
    "print(cm_test)\n",
    "\n",
    "plt.figure(figsize=(6,5))\n",
    "sns.heatmap(cm_test, annot=True, fmt='d', cmap='Greens', xticklabels=nb.classes_, yticklabels=nb.classes_)\n",
    "plt.xlabel('Predito')\n",
    "plt.ylabel('Real')\n",
    "plt.title('Matriz de Confusão - Teste')\n",
    "plt.show()\n"
   ]
  },
  {
   "cell_type": "markdown",
   "metadata": {
    "id": "fKc3id7ZwL7V"
   },
   "source": [
    "# 5) Descreva com suas palavras o projeto desenvolvido nessa atividade e qual o nosso objetivo principal ao aplicarmos o algoritmo de naive bayes a base de crédito.\n",
    "Utilize pelo menos 4 linhas.\n",
    "\n",
    "Dica: Caso você ainda esteja tendo dificuldade em visualizar a aplicação dos projetos e objetivo, consulte seus tutores!"
   ]
  },
  {
   "cell_type": "markdown",
   "metadata": {},
   "source": [
    "    Neste projeto, trabalhamos com uma base de dados de clientes contendo informações demográficas, renda, estado civil, escolaridade, propriedade da casa e histórico de crédito. Nosso objetivo principal foi aplicar o algoritmo Naive Bayes para classificar o score de crédito dos clientes (High, Average, Low) com base nas variáveis fornecidas. Para isso, realizamos o pré-processamento dos dados, tratando valores faltantes e transformando variáveis categóricas em numéricas, além de separar a base em conjuntos de treino e teste. Com a avaliação das métricas de acurácia, recall e análise das matrizes de confusão, conseguimos medir o desempenho do modelo e verificar sua capacidade de generalização para novos clientes.\n"
   ]
  },
  {
   "cell_type": "code",
   "execution_count": 28,
   "metadata": {},
   "outputs": [],
   "source": [
    "df.to_csv(\"CREDIT_SCORE_M21.csv\", index=False)\n"
   ]
  }
 ],
 "metadata": {
  "colab": {
   "provenance": []
  },
  "kernelspec": {
   "display_name": "base",
   "language": "python",
   "name": "python3"
  },
  "language_info": {
   "codemirror_mode": {
    "name": "ipython",
    "version": 3
   },
   "file_extension": ".py",
   "mimetype": "text/x-python",
   "name": "python",
   "nbconvert_exporter": "python",
   "pygments_lexer": "ipython3",
   "version": "3.13.5"
  }
 },
 "nbformat": 4,
 "nbformat_minor": 0
}
