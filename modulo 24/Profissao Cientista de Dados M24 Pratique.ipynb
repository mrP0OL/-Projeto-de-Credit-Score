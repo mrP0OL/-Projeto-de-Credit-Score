{
 "cells": [
  {
   "cell_type": "markdown",
   "metadata": {
    "id": "4T5dCtwYXFS0"
   },
   "source": [
    "# **MÓDULO 24 - Bancos de Dados + SQL**"
   ]
  },
  {
   "cell_type": "markdown",
   "metadata": {
    "id": "tGub_MhcXTfu"
   },
   "source": [
    "Para nossa atividade inicial de SQL trabalharemos com uma base de vendas.\n",
    "Abaixo temos o ambiente de preparo para trabalharmos com o SQL lite."
   ]
  },
  {
   "cell_type": "code",
   "execution_count": 76,
   "metadata": {
    "id": "eQtWi0CfXCPn"
   },
   "outputs": [],
   "source": [
    "import sqlite3 #Importando a biblioteca necessária\n",
    "import pandas as pd"
   ]
  },
  {
   "cell_type": "code",
   "execution_count": 77,
   "metadata": {
    "id": "yKsW2EEpXQTK"
   },
   "outputs": [],
   "source": [
    "df_vendas = pd.read_csv(r\"C:\\Users\\Léo\\Downloads\\ciencia de dados\\modulo 24\\TB_VENDAS_TAREFA.csv\", delimiter=';')"
   ]
  },
  {
   "cell_type": "code",
   "execution_count": 78,
   "metadata": {
    "colab": {
     "base_uri": "https://localhost:8080/"
    },
    "id": "vbdvMKZgXtT5",
    "outputId": "4ce7afac-73b7-4ff8-b010-2021cc410f6f"
   },
   "outputs": [
    {
     "data": {
      "text/plain": [
       "24"
      ]
     },
     "execution_count": 78,
     "metadata": {},
     "output_type": "execute_result"
    }
   ],
   "source": [
    "conn = sqlite3.connect(':memory:')\n",
    "df_vendas.to_sql('tb_vendas', conn, index=False, if_exists='replace')"
   ]
  },
  {
   "cell_type": "code",
   "execution_count": 79,
   "metadata": {
    "id": "Z3-elg3aXuiM"
   },
   "outputs": [],
   "source": [
    "def run_query(query):\n",
    "    return pd.read_sql_query(query, conn)"
   ]
  },
  {
   "cell_type": "markdown",
   "metadata": {
    "id": "Z_EFXuNLXz7m"
   },
   "source": [
    "# 1) Faça uma consulta que retorne todos os dados da nossa tabela de vendas, com todas linhas e todas colunas.\n"
   ]
  },
  {
   "cell_type": "code",
   "execution_count": 80,
   "metadata": {
    "id": "XQr_MBvmb4yC"
   },
   "outputs": [
    {
     "name": "stdout",
     "output_type": "stream",
     "text": [
      "    ID_COMPRA  ID_CLIENTE   PRODUTO VALOR_UNID  UNIDADES\n",
      "0        1247        9081  CAMISETA       34,5         2\n",
      "1        1248        9081     CALCA       89,9         1\n",
      "2        1250        9560  CAMISETA       34,5         1\n",
      "3        1249        9630   BERMUDA       79,5         2\n",
      "4        1251        9425  CAMISETA       34,5         3\n",
      "5        1252        9425   VESTIDO        102         1\n",
      "6        1253        9481     CALCA       89,9         2\n",
      "7        1254        9785      MEIA       25,9         1\n",
      "8        1255        9786     CALCA       89,9         2\n",
      "9        1256        9787   VESTIDO        102         1\n",
      "10       1257        9788     CALCA       89,9         2\n",
      "11       1258        9789  CAMISETA       34,5         3\n",
      "12       1259        9790  CAMISETA       34,5         1\n",
      "13       1260        9791   BERMUDA       79,5         2\n",
      "14       1261        9792  CAMISETA       34,5         2\n",
      "15       1262        9793     CALCA       89,9         2\n",
      "16       1263        9794     CALCA       89,9         1\n",
      "17       1264        9795   BERMUDA       79,5         2\n",
      "18       1265        9796  CAMISETA       34,5         4\n",
      "19       1266        9797  CAMISETA       34,5         1\n",
      "20       1267        9798   VESTIDO        102         2\n",
      "21       1268        9799      MEIA       25,9         3\n",
      "22       1269        9800  CAMISETA       34,5         2\n",
      "23       1270        9801     CALCA       89,9         1\n"
     ]
    }
   ],
   "source": [
    "query = \"SELECT * FROM tb_vendas\"\n",
    "result_df = run_query(query)\n",
    "print(result_df)"
   ]
  },
  {
   "cell_type": "markdown",
   "metadata": {
    "id": "nyhYEkRLYMNY"
   },
   "source": [
    "# 2) Faça uma consulta que retorne apenas 10 linhas da coluna produto.\n"
   ]
  },
  {
   "cell_type": "code",
   "execution_count": 81,
   "metadata": {
    "id": "LfKnVQUCYLxE"
   },
   "outputs": [
    {
     "name": "stdout",
     "output_type": "stream",
     "text": [
      "    PRODUTO\n",
      "0  CAMISETA\n",
      "1     CALCA\n",
      "2  CAMISETA\n",
      "3   BERMUDA\n",
      "4  CAMISETA\n",
      "5   VESTIDO\n",
      "6     CALCA\n",
      "7      MEIA\n",
      "8     CALCA\n",
      "9   VESTIDO\n"
     ]
    }
   ],
   "source": [
    "query = \"SELECT produto FROM tb_vendas LIMIT 10\"\n",
    "result_df = run_query(query)\n",
    "print(result_df)"
   ]
  },
  {
   "cell_type": "markdown",
   "metadata": {
    "id": "-hqcrP6CYiGF"
   },
   "source": [
    "# 3) Faça uma consulta que retorne a média do valor por unidade e também das unidades vendidas. Não se esqueça de renomear o nome das colunas ao cria-las."
   ]
  },
  {
   "cell_type": "code",
   "execution_count": 82,
   "metadata": {
    "id": "v1aJMTkMYhm4"
   },
   "outputs": [
    {
     "name": "stdout",
     "output_type": "stream",
     "text": [
      "   media_valor_unid  media_unidades\n",
      "0         63.416667        1.833333\n"
     ]
    }
   ],
   "source": [
    "query = \"\"\"\n",
    "SELECT \n",
    "    AVG(VALOR_UNID) AS media_valor_unid,\n",
    "    AVG(UNIDADES) AS media_unidades\n",
    "FROM tb_vendas\n",
    "\"\"\"\n",
    "result_df = run_query(query)\n",
    "print(result_df)\n"
   ]
  },
  {
   "cell_type": "markdown",
   "metadata": {
    "id": "UJUIsVjAY8Jz"
   },
   "source": [
    "# 4) Note que na nossa tabela não temos o total de valor gasto por compra, temos o valor do produto e a quantidade vendida, para termos o valor total precisamos multiplicar essas duas colunas e para multiplicar colunas usamos o *.\n",
    "# Faça uma consulta que retorne a coluna ID_COMPRA, ID_CLIENTE e o valor total gasto.\n",
    "\n",
    "Ex: SELECT TICKET_MEDIO*UNIDADE FROM TB_EXEMPLO"
   ]
  },
  {
   "cell_type": "code",
   "execution_count": 83,
   "metadata": {
    "id": "rNQfkp6RY7qa"
   },
   "outputs": [
    {
     "name": "stdout",
     "output_type": "stream",
     "text": [
      "    ID_COMPRA  ID_CLIENTE  valor_total_gasto\n",
      "0        1247        9081                 68\n",
      "1        1248        9081                 89\n",
      "2        1250        9560                 34\n",
      "3        1249        9630                158\n",
      "4        1251        9425                102\n",
      "5        1252        9425                102\n",
      "6        1253        9481                178\n",
      "7        1254        9785                 25\n",
      "8        1255        9786                178\n",
      "9        1256        9787                102\n",
      "10       1257        9788                178\n",
      "11       1258        9789                102\n",
      "12       1259        9790                 34\n",
      "13       1260        9791                158\n",
      "14       1261        9792                 68\n",
      "15       1262        9793                178\n",
      "16       1263        9794                 89\n",
      "17       1264        9795                158\n",
      "18       1265        9796                136\n",
      "19       1266        9797                 34\n",
      "20       1267        9798                204\n",
      "21       1268        9799                 75\n",
      "22       1269        9800                 68\n",
      "23       1270        9801                 89\n"
     ]
    }
   ],
   "source": [
    "query = \"\"\"\n",
    "SELECT \n",
    "    ID_COMPRA,\n",
    "    ID_CLIENTE,\n",
    "    (VALOR_UNID * UNIDADES) AS valor_total_gasto\n",
    "FROM tb_vendas\n",
    "\"\"\"\n",
    "result_df = run_query(query)\n",
    "print(result_df)\n"
   ]
  },
  {
   "cell_type": "markdown",
   "metadata": {
    "id": "tuTDx7W3Zxlp"
   },
   "source": [
    "# 5) [DESAFIO] Faça uma consulta que traz a média do valor total gasto que foi calculado no exercício anterior. Note que não queremos a média por pedido e sim a média total, apenas essa informação deve vir na consulta."
   ]
  },
  {
   "cell_type": "code",
   "execution_count": 84,
   "metadata": {
    "id": "UPUskwJoaEgy"
   },
   "outputs": [
    {
     "name": "stdout",
     "output_type": "stream",
     "text": [
      "   media_valor_total_gasto\n",
      "0                  108.625\n"
     ]
    }
   ],
   "source": [
    "query = \"\"\"\n",
    "SELECT \n",
    "    AVG(VALOR_UNID * UNIDADES) AS media_valor_total_gasto\n",
    "FROM tb_vendas\n",
    "\"\"\"\n",
    "result_df = run_query(query)\n",
    "print(result_df)\n"
   ]
  },
  {
   "cell_type": "markdown",
   "metadata": {
    "id": "0ezDHHigaONG"
   },
   "source": [
    "# 6) Diferencie com suas palavras, considerando o repertório que tem criado da área de dados, a utilizadade do SQL e do Python para ciência de dados.\n",
    "Minimo 2 linhas."
   ]
  },
  {
   "cell_type": "markdown",
   "metadata": {},
   "source": [
    "    SQL é usado para extrair e organizar dados de bancos de forma rápida e eficiente.\n",
    "\n",
    "\n",
    "    Python é usado para analisar, modelar e visualizar dados, aplicando estatística e machine learning."
   ]
  },
  {
   "cell_type": "markdown",
   "metadata": {
    "id": "F1xh_-UPaZU2"
   },
   "source": [
    "#7) Diferencie com suas palavras banco de dados relacionais de não relacionais.\n",
    "Minimo 3 linhas."
   ]
  },
  {
   "cell_type": "markdown",
   "metadata": {},
   "source": [
    "    Bancos de dados relacionais (SQL) organizam dados em tabelas com linhas e colunas, permitindo relacionamentos claros entre diferentes tabelas e garantindo integridade dos dados.\n",
    "\n",
    "\n",
    "    Bancos de dados não relacionais (NoSQL) armazenam dados de forma mais flexível, como documentos, chave-valor ou grafos, sendo ideais para grandes volumes de dados variados ou não estruturados.\n",
    "\n",
    "    \n",
    "    Enquanto os relacionais são ótimos para consultas complexas e consistência, os não relacionais priorizam escalabilidade e flexibilidade."
   ]
  },
  {
   "cell_type": "markdown",
   "metadata": {
    "id": "GkKpxl52atNQ"
   },
   "source": [
    "#8) Queremos saber da sua opinião, acredita que o SQL pode ser mais prático que o Python para consultas rápidas? Justifique.\n",
    "Muitas vezes durante a carreia você terá que escolher qual linguagem utilizar para cada momento afim de entregar o que é solicitado o mais rápido e com qualidade possível, exercite sua argumentação = )\n",
    "\n",
    "Minimo 3 linhas."
   ]
  },
  {
   "cell_type": "markdown",
   "metadata": {},
   "source": [
    "    Sim, o SQL pode ser mais prático que o Python para consultas rápidas, principalmente quando os dados já estão armazenados em um banco relacional.\n",
    "\n",
    "    Isso acontece porque o SQL foi projetado especificamente para filtrar, agrupar e agregar dados diretamente no banco, sem a necessidade de carregar toda a base para a memória, como acontece no Python. Por exemplo, calcular a soma de vendas de um mês ou listar clientes que compraram acima de um valor específico é muito mais direto e rápido usando SQL do que carregar os dados no Python e depois aplicar filtros.\n",
    "\n",
    "    Além disso, usar SQL nesse contexto reduz processamento desnecessário, entrega resultados rápidos e mantém o código mais simples. Já o Python se torna mais vantajoso quando queremos análises complexas, transformações avançadas ou visualizações, após extrair os dados."
   ]
  }
 ],
 "metadata": {
  "colab": {
   "provenance": []
  },
  "kernelspec": {
   "display_name": "base",
   "language": "python",
   "name": "python3"
  },
  "language_info": {
   "codemirror_mode": {
    "name": "ipython",
    "version": 3
   },
   "file_extension": ".py",
   "mimetype": "text/x-python",
   "name": "python",
   "nbconvert_exporter": "python",
   "pygments_lexer": "ipython3",
   "version": "3.13.5"
  }
 },
 "nbformat": 4,
 "nbformat_minor": 0
}
