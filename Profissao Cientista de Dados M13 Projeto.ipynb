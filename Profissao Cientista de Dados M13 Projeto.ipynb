{
 "cells": [
  {
   "cell_type": "markdown",
   "metadata": {
    "id": "VOTu7U3Mvxzq"
   },
   "source": [
    "# **MÓDULO 13**\n",
    "# Projeto - Fundamentos da Descoberta de Dados"
   ]
  },
  {
   "cell_type": "markdown",
   "metadata": {
    "id": "-HYgkdAywLd0"
   },
   "source": [
    "Nesse projeto trabalharemos com a base de dados de produtos de um supermercado do Chile.\n",
    "A ideia é que vocês apliquem os conceitos estatísticos vistos no último módulo, mais os conceitos de visualizações de dados através de gráficos e finalizem publicando no seu github!"
   ]
  },
  {
   "cell_type": "code",
   "execution_count": 1,
   "metadata": {
    "id": "OTdTnbzUwE2X"
   },
   "outputs": [],
   "source": [
    "import pandas as pd\n",
    "import matplotlib.pyplot as plt\n",
    "import plotly.express as px\n",
    "import seaborn as sns"
   ]
  },
  {
   "cell_type": "markdown",
   "metadata": {
    "id": "ky1Dk_KWywEa"
   },
   "source": [
    "Faça a leitura dos dados do arquivo CSV:\n",
    "\n",
    "\n",
    "Altere o código abaixo de acordo com seu diretório."
   ]
  },
  {
   "cell_type": "code",
   "execution_count": 2,
   "metadata": {
    "colab": {
     "base_uri": "https://localhost:8080/",
     "height": 363
    },
    "id": "bRBFyVB5wlny",
    "outputId": "cde5190b-fecf-48f8-e98c-5ec7e469bcfb"
   },
   "outputs": [
    {
     "data": {
      "text/html": [
       "<div>\n",
       "<style scoped>\n",
       "    .dataframe tbody tr th:only-of-type {\n",
       "        vertical-align: middle;\n",
       "    }\n",
       "\n",
       "    .dataframe tbody tr th {\n",
       "        vertical-align: top;\n",
       "    }\n",
       "\n",
       "    .dataframe thead th {\n",
       "        text-align: right;\n",
       "    }\n",
       "</style>\n",
       "<table border=\"1\" class=\"dataframe\">\n",
       "  <thead>\n",
       "    <tr style=\"text-align: right;\">\n",
       "      <th></th>\n",
       "      <th>title</th>\n",
       "      <th>Marca</th>\n",
       "      <th>Preco_Normal</th>\n",
       "      <th>Preco_Desconto</th>\n",
       "      <th>Preco_Anterior</th>\n",
       "      <th>Desconto</th>\n",
       "      <th>Categoria</th>\n",
       "    </tr>\n",
       "  </thead>\n",
       "  <tbody>\n",
       "    <tr>\n",
       "      <th>0</th>\n",
       "      <td>Pack 12 un, Leche extra proteína 1 L</td>\n",
       "      <td>Loncoleche</td>\n",
       "      <td>19788</td>\n",
       "      <td>0</td>\n",
       "      <td>0</td>\n",
       "      <td>0</td>\n",
       "      <td>lacteos</td>\n",
       "    </tr>\n",
       "    <tr>\n",
       "      <th>1</th>\n",
       "      <td>Pack 12 un, Leche chocolate receta original 1 L</td>\n",
       "      <td>Soprole</td>\n",
       "      <td>18228</td>\n",
       "      <td>0</td>\n",
       "      <td>0</td>\n",
       "      <td>0</td>\n",
       "      <td>lacteos</td>\n",
       "    </tr>\n",
       "    <tr>\n",
       "      <th>2</th>\n",
       "      <td>Pack 12 un, Leche semidescremada chocolate 1 L</td>\n",
       "      <td>Soprole</td>\n",
       "      <td>18228</td>\n",
       "      <td>0</td>\n",
       "      <td>0</td>\n",
       "      <td>0</td>\n",
       "      <td>lacteos</td>\n",
       "    </tr>\n",
       "    <tr>\n",
       "      <th>3</th>\n",
       "      <td>Pack 12 un, Leche semidescremada frutilla 1 L</td>\n",
       "      <td>Soprole</td>\n",
       "      <td>18228</td>\n",
       "      <td>0</td>\n",
       "      <td>0</td>\n",
       "      <td>0</td>\n",
       "      <td>lacteos</td>\n",
       "    </tr>\n",
       "    <tr>\n",
       "      <th>4</th>\n",
       "      <td>Pack 12 un, Leche sin lactosa chocolate 1 L</td>\n",
       "      <td>Loncoleche</td>\n",
       "      <td>17988</td>\n",
       "      <td>0</td>\n",
       "      <td>0</td>\n",
       "      <td>0</td>\n",
       "      <td>lacteos</td>\n",
       "    </tr>\n",
       "    <tr>\n",
       "      <th>5</th>\n",
       "      <td>Pack 12 un, Leche sin lactosa frutilla 1 L</td>\n",
       "      <td>Loncoleche</td>\n",
       "      <td>17988</td>\n",
       "      <td>0</td>\n",
       "      <td>0</td>\n",
       "      <td>0</td>\n",
       "      <td>lacteos</td>\n",
       "    </tr>\n",
       "    <tr>\n",
       "      <th>6</th>\n",
       "      <td>Pack 12 un, Leche saborizada light chocolate 1 L</td>\n",
       "      <td>Loncoleche</td>\n",
       "      <td>17988</td>\n",
       "      <td>0</td>\n",
       "      <td>0</td>\n",
       "      <td>0</td>\n",
       "      <td>lacteos</td>\n",
       "    </tr>\n",
       "    <tr>\n",
       "      <th>7</th>\n",
       "      <td>Pack 12 un, Leche saborizada frutilla 1 L</td>\n",
       "      <td>Colun</td>\n",
       "      <td>17388</td>\n",
       "      <td>0</td>\n",
       "      <td>0</td>\n",
       "      <td>0</td>\n",
       "      <td>lacteos</td>\n",
       "    </tr>\n",
       "    <tr>\n",
       "      <th>8</th>\n",
       "      <td>Pack 12 un, Leche saborizada vainilla 1 L</td>\n",
       "      <td>Colun</td>\n",
       "      <td>17388</td>\n",
       "      <td>0</td>\n",
       "      <td>0</td>\n",
       "      <td>0</td>\n",
       "      <td>lacteos</td>\n",
       "    </tr>\n",
       "    <tr>\n",
       "      <th>9</th>\n",
       "      <td>Pack 12 un, Leche saborizada manjar 1 L</td>\n",
       "      <td>Colun</td>\n",
       "      <td>17388</td>\n",
       "      <td>0</td>\n",
       "      <td>0</td>\n",
       "      <td>0</td>\n",
       "      <td>lacteos</td>\n",
       "    </tr>\n",
       "  </tbody>\n",
       "</table>\n",
       "</div>"
      ],
      "text/plain": [
       "                                              title       Marca  Preco_Normal  \\\n",
       "0              Pack 12 un, Leche extra proteína 1 L  Loncoleche         19788   \n",
       "1   Pack 12 un, Leche chocolate receta original 1 L     Soprole         18228   \n",
       "2    Pack 12 un, Leche semidescremada chocolate 1 L     Soprole         18228   \n",
       "3     Pack 12 un, Leche semidescremada frutilla 1 L     Soprole         18228   \n",
       "4       Pack 12 un, Leche sin lactosa chocolate 1 L  Loncoleche         17988   \n",
       "5        Pack 12 un, Leche sin lactosa frutilla 1 L  Loncoleche         17988   \n",
       "6  Pack 12 un, Leche saborizada light chocolate 1 L  Loncoleche         17988   \n",
       "7         Pack 12 un, Leche saborizada frutilla 1 L       Colun         17388   \n",
       "8         Pack 12 un, Leche saborizada vainilla 1 L       Colun         17388   \n",
       "9           Pack 12 un, Leche saborizada manjar 1 L       Colun         17388   \n",
       "\n",
       "   Preco_Desconto  Preco_Anterior  Desconto Categoria  \n",
       "0               0               0         0   lacteos  \n",
       "1               0               0         0   lacteos  \n",
       "2               0               0         0   lacteos  \n",
       "3               0               0         0   lacteos  \n",
       "4               0               0         0   lacteos  \n",
       "5               0               0         0   lacteos  \n",
       "6               0               0         0   lacteos  \n",
       "7               0               0         0   lacteos  \n",
       "8               0               0         0   lacteos  \n",
       "9               0               0         0   lacteos  "
      ]
     },
     "execution_count": 2,
     "metadata": {},
     "output_type": "execute_result"
    }
   ],
   "source": [
    "df = pd.read_csv(r\"C:\\Users\\Léo\\Downloads\\ciencia de dados\\MODULO7_PROJETOFINAL_BASE_SUPERMERCADO - MODULO7_PROJETOFINAL_BASE_SUPERMERCADO (1).csv.csv\", delimiter=',')\n",
    "\n",
    "df.head(10)"
   ]
  },
  {
   "cell_type": "markdown",
   "metadata": {
    "id": "YJgKJ7Nxwtw2"
   },
   "source": [
    "Os campos do nosso dataframe são:\n",
    "\n",
    "**Title:** Nome do produto.\n",
    "\n",
    "\n",
    "**Marca:** A marca do produto.\n",
    "\n",
    "\n",
    "**Preco_Normal:** O preço em que o produto costuma ser vendido quando não há desconto.\n",
    "\n",
    "\n",
    "**Preco_Desconto:** O preço vendido após o desconto ser aplicado.\n",
    "\n",
    "\n",
    "**Preco_Anterior:** Preço em que era comercializado o produto antes do desconto aplicado.\n",
    "\n",
    "\n",
    "**Desconto:** Total de desconto aplicado.\n",
    "\n",
    "\n",
    "\n",
    "\n",
    "\n",
    "\n",
    "As colunas que aparecem com valores 0 são para os produtos onde não tivemos descontos aplicados.\n",
    "\n",
    "\n",
    "As categorias estão em espanhol!"
   ]
  },
  {
   "cell_type": "markdown",
   "metadata": {
    "id": "4u6WBeyyy6ri"
   },
   "source": [
    "# 1 - Traga a média e a mediana dos preços - coluna Preco_Normal - por categoria de produto.\n",
    "# Identifique as categorias que parecem ter um valor de média abaixo ou acima da mediana."
   ]
  },
  {
   "cell_type": "code",
   "execution_count": 3,
   "metadata": {
    "id": "E7B7FolOzVcJ"
   },
   "outputs": [
    {
     "name": "stdout",
     "output_type": "stream",
     "text": [
      "                 Marca         Media  Mediana  Acima_Media\n",
      "106           Plenitud  16799.000000  16799.0        False\n",
      "145               Tena  10074.500000  10074.5        False\n",
      "89                Nido   9227.400000  10599.0        False\n",
      "134            Sofruco   7990.000000   7990.0        False\n",
      "144             Svelty   7552.333333   7999.0        False\n",
      "..                 ...           ...      ...          ...\n",
      "128              Sedal      0.000000      0.0        False\n",
      "147           Traverso      0.000000      0.0        False\n",
      "150          Tío Nacho      0.000000      0.0        False\n",
      "151             Vanart      0.000000      0.0        False\n",
      "152  Viennetta Bresler      0.000000      0.0        False\n",
      "\n",
      "[156 rows x 4 columns]\n"
     ]
    }
   ],
   "source": [
    "# Cálculo da média e mediana do Preco_Normal por Marca\n",
    "preco_stats = df.groupby(\"Marca\")[\"Preco_Normal\"].agg([\"mean\", \"median\"]).reset_index()\n",
    "preco_stats[\"Acima_Media\"] = preco_stats[\"mean\"] > preco_stats[\"median\"]\n",
    "preco_stats = preco_stats.rename(columns={\"mean\": \"Media\", \"median\": \"Mediana\"})\n",
    "\n",
    "print(preco_stats.sort_values(by=\"Media\", ascending=False))"
   ]
  },
  {
   "cell_type": "markdown",
   "metadata": {
    "id": "nKBFOh-mzyWX"
   },
   "source": [
    "Digite aqui as categorias:"
   ]
  },
  {
   "cell_type": "markdown",
   "metadata": {
    "id": "jdHZurzDzca0"
   },
   "source": [
    "# 2 - Traga o desvio padrão por categoria de produto.\n",
    "# Qual o comportamento da média e mediana nas categorias com maior desvio?"
   ]
  },
  {
   "cell_type": "code",
   "execution_count": 4,
   "metadata": {
    "id": "xEXT1gtoz135"
   },
   "outputs": [
    {
     "name": "stdout",
     "output_type": "stream",
     "text": [
      "           Marca        Media  Mediana  Acima_Media  Desvio_Padrao\n",
      "75    Loncoleche  4445.560000   1639.0         True    6303.210886\n",
      "89          Nido  9227.400000  10599.0        False    6085.929452\n",
      "29         Colun  2752.597701    879.0         True    4828.200258\n",
      "123    San Jorge  3195.000000   3195.0        False    4518.412332\n",
      "136      Soprole  1803.539216    607.0         True    3529.125650\n",
      "..           ...          ...      ...          ...            ...\n",
      "134      Sofruco  7990.000000   7990.0        False            NaN\n",
      "139   Super Beef     0.000000      0.0        False            NaN\n",
      "140  Super Cerdo   859.000000    859.0        False            NaN\n",
      "146       Tivoni  4450.000000   4450.0        False            NaN\n",
      "155         Zole  3890.000000   3890.0        False            NaN\n",
      "\n",
      "[156 rows x 5 columns]\n"
     ]
    }
   ],
   "source": [
    "# Cálculo do desvio padrão do Preco_Normal por Marca\n",
    "std_stats = df.groupby(\"Marca\")[\"Preco_Normal\"].std().reset_index()\n",
    "std_stats = std_stats.rename(columns={\"Preco_Normal\": \"Desvio_Padrao\"})\n",
    "\n",
    "# Junta com média e mediana\n",
    "full_stats = pd.merge(preco_stats, std_stats, on=\"Marca\")\n",
    "full_stats = full_stats.sort_values(by=\"Desvio_Padrao\", ascending=False)\n",
    "\n",
    "print(full_stats)\n"
   ]
  },
  {
   "cell_type": "markdown",
   "metadata": {
    "id": "HzsLO4nOz3yJ"
   },
   "source": [
    "Digite nesse campo o comportamento que você identificou."
   ]
  },
  {
   "cell_type": "markdown",
   "metadata": {
    "id": "4aW51rCHBr2w"
   },
   "source": [
    "# 3 - Plot um boxplot da distribuição do Preco_Normal para a categoria que você identificou que tem o maior desvio padrão. Como é a distribuição desses dados segundo o boxplot? Você identifica muitos outliers?"
   ]
  },
  {
   "cell_type": "markdown",
   "metadata": {
    "id": "kwPKkUZnEUSb"
   },
   "source": [
    "Dica: Para trazer apenas os dados da categoria que você deseja você pode usar o df.loc[df['Categoria'] == 'CATEGORIA ESCOLHIDA'"
   ]
  },
  {
   "cell_type": "code",
   "execution_count": 11,
   "metadata": {
    "id": "_02thblTCKEF"
   },
   "outputs": [
    {
     "data": {
      "image/png": "[encoded data removed]",
      "text/plain": [
       "<Figure size 2000x500 with 1 Axes>"
      ]
     },
     "metadata": {},
     "output_type": "display_data"
    }
   ],
   "source": [
    "#Filtra a marca com maior desvio padrão\n",
    "marca_alvo = full_stats.iloc[0][\"Marca\"]\n",
    "df_marca = df[df[\"Marca\"]== marca_alvo]\n",
    "\n",
    "#Gerar o boxplot\n",
    "plt.figure(figsize=(20,5))\n",
    "sns.boxplot(x=\"Preco_Normal\",data=df_marca, color=\"lightgreen\")\n",
    "plt.title(f\"distribuição de preço Normal - Marca: {marca_alvo}\")\n",
    "plt.xlabel(\"preço Normal (R$)\")\n",
    "plt.grid(True)\n",
    "plt.show()"
   ]
  },
  {
   "cell_type": "markdown",
   "metadata": {
    "id": "w5xgQBC_0Hg-"
   },
   "source": [
    "# 4 - Plote um gráfico de barras onde temos a média de descontos por categoria."
   ]
  },
  {
   "cell_type": "code",
   "execution_count": 6,
   "metadata": {
    "id": "DBj5zAdI0QfI"
   },
   "outputs": [
    {
     "name": "stderr",
     "output_type": "stream",
     "text": [
      "C:\\Users\\Léo\\AppData\\Local\\Temp\\ipykernel_18152\\2251085494.py:7: FutureWarning: \n",
      "\n",
      "Passing `palette` without assigning `hue` is deprecated and will be removed in v0.14.0. Assign the `y` variable to `hue` and set `legend=False` for the same effect.\n",
      "\n",
      "  sns.barplot(x=df_bar.values, y=df_bar.index, palette=\"mako\")\n"
     ]
    },
    {
     "data": {
      "image/png": "[encoded data removed]",
      "text/plain": [
       "<Figure size 1000x2000 with 1 Axes>"
      ]
     },
     "metadata": {},
     "output_type": "display_data"
    }
   ],
   "source": [
    "# Média de desconto por marca\n",
    "df_bar = df.groupby(\"Marca\")[\"Desconto\"].mean().sort_values()\n",
    "\n",
    "\n",
    "# Plotagem\n",
    "plt.figure(figsize=(10, 20))\n",
    "sns.barplot(x=df_bar.values, y=df_bar.index, palette=\"mako\")\n",
    "plt.title(\"Média de Desconto por Marca\")\n",
    "plt.xlabel(\"Desconto Médio (R$)\")\n",
    "plt.ylabel(\"Marca\")\n",
    "plt.grid(True)\n",
    "plt.tight_layout()\n",
    "plt.show()"
   ]
  },
  {
   "cell_type": "markdown",
   "metadata": {
    "id": "vqlx0w7E07uC"
   },
   "source": [
    "# 5 - Plote um gráfico de mapa interativo agrupando os dados por categoria, marca e trazendo a média de desconto."
   ]
  },
  {
   "cell_type": "code",
   "execution_count": 7,
   "metadata": {
    "id": "D-JWM64Q1NzB"
   },
   "outputs": [
    {
     "data": {
      "application/vnd.plotly.v1+json": {
       "config": {
        "plotlyServerURL": "https://plot.ly"
       },
       "data": [
        {
         "branchvalues": "total",
         "customdata": [
          [
           1159
          ],
          [
           749
          ],
          [
           749
          ],
          [
           899
          ],
          [
           369
          ],
          [
           369
          ],
          [
           650
          ],
          [
           590
          ],
          [
           650
          ],
          [
           650
          ],
          [
           660
          ],
          [
           660
          ],
          [
           795
          ],
          [
           795
          ],
          [
           795
          ],
          [
           169
          ],
          [
           169
          ],
          [
           797
          ],
          [
           797
          ],
          [
           369
          ],
          [
           120
          ],
          [
           140
          ],
          [
           210
          ],
          [
           130
          ],
          [
           130
          ],
          [
           130
          ],
          [
           693
          ],
          [
           562
          ],
          [
           555
          ],
          [
           559
          ],
          [
           657
          ],
          [
           709
          ],
          [
           373
          ],
          [
           373
          ],
          [
           657
          ],
          [
           550
          ],
          [
           840
          ],
          [
           657
          ],
          [
           699
          ],
          [
           657
          ],
          [
           657
          ],
          [
           789
          ],
          [
           789
          ],
          [
           789
          ],
          [
           789
          ],
          [
           789
          ],
          [
           789
          ],
          [
           789
          ],
          [
           622
          ],
          [
           630
          ],
          [
           600
          ],
          [
           789
          ],
          [
           789
          ],
          [
           789
          ],
          [
           1090
          ],
          [
           1090
          ],
          [
           759
          ],
          [
           759
          ],
          [
           759
          ],
          [
           546
          ],
          [
           840
          ],
          [
           990
          ],
          [
           759
          ],
          [
           759
          ],
          [
           759
          ],
          [
           299
          ],
          [
           300
          ],
          [
           609
          ],
          [
           1000
          ],
          [
           890
          ],
          [
           890
          ],
          [
           890
          ],
          [
           76
          ],
          [
           379
          ],
          [
           379
          ],
          [
           4349
          ],
          [
           389
          ],
          [
           349
          ],
          [
           518
          ],
          [
           526
          ],
          [
           359
          ],
          [
           658
          ],
          [
           160
          ],
          [
           698
          ],
          [
           636
          ],
          [
           200
          ],
          [
           200
          ],
          [
           700
          ],
          [
           700
          ],
          [
           659
          ],
          [
           844
          ],
          [
           189
          ],
          [
           500
          ],
          [
           500
          ],
          [
           500
          ],
          [
           500
          ],
          [
           300
          ],
          [
           279
          ],
          [
           546
          ],
          [
           1070
          ],
          [
           1070
          ],
          [
           715
          ],
          [
           546
          ],
          [
           329
          ],
          [
           329
          ],
          [
           1009
          ],
          [
           409
          ],
          [
           749
          ],
          [
           749
          ],
          [
           899
          ],
          [
           1159
          ],
          [
           460
          ],
          [
           495
          ],
          [
           331
          ],
          [
           569
          ],
          [
           680
          ],
          [
           458
          ],
          [
           495
          ],
          [
           668.4407796101949
          ],
          [
           590
          ],
          [
           409
          ],
          [
           650
          ],
          [
           848.6104370948977
          ],
          [
           715
          ],
          [
           607.6783245221635
          ],
          [
           389
          ],
          [
           672.3993874977482
          ],
          [
           973.0865384615385
          ],
          [
           1009
          ],
          [
           343.8385518590998
          ],
          [
           331
          ],
          [
           569
          ],
          [
           968.848167539267
          ],
          [
           657
          ],
          [
           130
          ],
          [
           76
          ],
          [
           4349
          ],
          [
           590.6537785588753
          ],
          [
           210
          ],
          [
           160
          ],
          [
           797
          ],
          [
           797
          ],
          [
           500
          ],
          [
           805.2578222778473
          ],
          [
           724.1597289448209
          ],
          [
           609
          ],
          [
           660
          ],
          [
           795
          ],
          [
           660
          ],
          [
           795
          ],
          [
           657
          ],
          [
           140
          ],
          [
           299
          ],
          [
           708.073919298486
          ],
          [
           300
          ],
          [
           369.5420054200542
          ],
          [
           120
          ],
          [
           522.0306513409962
          ],
          [
           546
          ]
         ],
         "domain": {
          "x": [
           0,
           1
          ],
          "y": [
           0,
           1
          ]
         },
         "hovertemplate": "labels=%{label}<br>Desconto_sum=%{value}<br>parent=%{parent}<br>id=%{id}<br>Desconto=%{color}<extra></extra>",
         "ids": [
          "Dove/Acondicionador Hidratación Intensa 400 ml",
          "Pantene/Acondicionador Pro-V Hidratación 300 ml",
          "Pantene/Acondicionador Pro-V restauración 300 ml",
          "Pantene/Acondicionador Pro-V rizos definidos 300 ml",
          "Frutos Del Maipo/Arvejas 500 g",
          "Frutos Del Maipo/Choclo en granos 500 g",
          "BiO/Desodorante Clarify spray mujer 150 ml",
          "Axe/Desodorante Musk aerosol 150 ml",
          "BiO/Desodorante Olorblock spray 150 ml",
          "BiO/Desodorante Protection 5 spray 150 ml",
          "Rexona Men/Desodorante aerosol Rexona Men Invisible 150 ml",
          "Rexona/Desodorante aerosol Rexona Women Powder Dry 150 ml",
          "Rexona Clinical/Desodorante crema Rexona Classic 48 g",
          "Rexona Men Clinical/Desodorante crema Rexona Clean 48 g",
          "Rexona Clinical/Desodorante crema Rexona Extra Dry 48 g",
          "Cuisine & Co/Empanadas de pino 432 g",
          "Cuisine & Co/Empanadas napolitanas 432 g",
          "Oral Fresh/Enjuague Bucal Menta Fresca 500 cc",
          "Oral-B/Enjuague bucal Oral Fresh menta fuerte 500 ml",
          "Frutos Del Maipo/Ensalada Primavera bolsa 500 g",
          "Super Beef/Hamburguesa de vacuno 90 g",
          "San Jorge/Hamburguesa vacuno 90 g",
          "Not Burger/Hamburguesa vegana 100 g",
          "Minuto Verde/Hamburguesa vegana de garbanzos 100 g",
          "Minuto Verde/Hamburguesa vegana de lentejas 100 g",
          "Minuto Verde/Hamburguesa vegana de porotos 100 g",
          "Bresler/Helado Carezza postre 1 L",
          "Savory/Helado Centella 3 sabores Multipack 21x52g",
          "Savory/Helado Chocolito Mini Multipack 10x50ml",
          "Savory/Helado Crocanty Mini Multipack 400ml (8x50ml)",
          "Savory/Helado Danky Mini Nogatonga Multipack 5x80ml",
          "Bresler/Helado Frac vainilla multipack 5 un, 70 ml c/u",
          "Bresler/Helado Frugelé Trisabor frambuesa limón manzana 1 L",
          "Bresler/Helado Frugelé frutos rojos 1 L",
          "Savory/Helado Kit Kat Paleta Multipack 5x55ml",
          "Savory/Helado Kriko mini 6 un, 50 ml c/u",
          "Magnum/Helado Magnum mini cookies & cream 5 un, 60 ml c/u",
          "Mega/Helado Mega Mini Frambuesa Multipack 5x60ml",
          "Bresler/Helado Rolls Crocante 900 ml",
          "Savory/Helado Sahne Nuss Cono Mini Multipack 5x80ml",
          "Sahne Nuss/Helado Sahne Nuss Paleta Mini Multipack 5x60ml",
          "Savory/Helado Savory Brick Trisabor Cassata 1L",
          "Savory/Helado Savory Chirimoya Alegre Cassata 1L",
          "Savory/Helado Savory Chocolate Suizo Cassata 1L",
          "Savory/Helado Savory Chocolate Suizo y Frutos del bosque 1L",
          "Savory/Helado Savory Lúcuma Cassata 1L",
          "Savory/Helado Savory Pasas al Ron Cassata 1L",
          "Savory/Helado Savory Piña Cassata 1L",
          "Savory/Helado Savory Pura Fruta Frambuesa Chocolate amargo Paleta Multipack 6x50ml",
          "Savory/Helado Savory Pura Fruta Multipack Frambuesa 6x50 ml",
          "Savory/Helado Savory Pura Fruta Multipack Mango 6x50ml",
          "Savory/Helado Savory Selva negra Cassata 1L",
          "Savory/Helado Savory Tres Leches Cassata 1L",
          "Savory/Helado Savory Vainilla Cassata 1L",
          "Bresler/Helado Trisabor chocolate lúcuma y manjar 2,4 L",
          "Bresler/Helado bresler pote cassata 2,4l",
          "Cuisine & Co/Helado chocolate light 792 g",
          "Cuisine & Co/Helado cookies and cream 792 g",
          "Cuisine & Co/Helado fudge brownie 780 g",
          "Viennetta Bresler/Helado lúcuma con capas cobertura de chocolate 1 L",
          "Magnum/Helado mini almendras 5 un, 60 ml c/u",
          "Bresler/Helado multipack Frugelé 18 un, 60 ml c/u",
          "Cuisine & Co/Helado strawberries 840 g",
          "Cuisine & Co/Helado swirl caramel 836 g",
          "Cuisine & Co/Helado vainilla bean 792 g",
          "Santa Marta/Huevos grandes blancos Santa Marta 12 unid",
          "Simonds/Jabón Dermo Care Hygienic 1,5 L",
          "Protex/Jabón barra aloe 3 un, 90 g c/u",
          "Dove/Jabón barra original 3 un, de 90 g",
          "Dove/Jabón líquido karité 700 ml",
          "Dove/Jabón líquido mandarina 700 ml",
          "Dove/Jabón líquido original 700 ml",
          "Nestlé/Leche Trencito Chocolate 200ml",
          "Soprole/Leche cultivada probiótico y vitamina D chirimoya 1 L",
          "Soprole/Leche cultivada probiótico y vitamina D frutilla 1 L",
          "Nido/Leche en Polvo Nido Forticrece Sin lactosa 1440g",
          "Colun/Mantequilla con sal 250 g",
          "Soprole/Mantequilla sin sal 250 g",
          "Sureña/Margarina Light Sureña 500 g",
          "Sureña/Margarina Sureña 500 g",
          "Cuisine & Co/Margarina mix pote 500 g",
          "Savory/Multipack 5 un, Mini Mega cookies & cream manjar 60 ml",
          "Not Milk/Notmilk chocolate 200 ml",
          "Aquafresh/Pack 3 un, Pasta dental sabor menta 378 g",
          "Aquafresh/Pack pasta dental sabor menta 158 g 2 un,",
          "Colgate/Pasta dental Luminous White Brilliant 90 g",
          "Colgate/Pasta dental Luminous White carbón activado 90 g",
          "Colgate/Pasta dental Triple Acción xtra blancura 3 un, 75 ml c/u",
          "Colgate/Pasta dental Triple Acción xtra frescura 3 un, 75 ml c/u",
          "Colgate/Pasta dental Ultra Blanco 3 un, 90 g c/u",
          "Pepsodent/Pasta dental Xtra Whitening 3 un, 90 g",
          "Pepsodent/Pasta dental triple 3 un, 90 g",
          "PF/Pizza española listo 465 g",
          "PF/Pizza listo jamón-queso 465 g",
          "PF/Pizza listo pepperoni 430 g",
          "PF/Pizza vegetariana listo 465 g",
          "Cuisine & Co/Pizzeta napolitana congelada 440 g",
          "Frutos Del Maipo/Porotos verdes 350 g",
          "Viennetta Bresler/Postre helado cappuccino 1 L",
          "Magnum/Postre helado chocolate blanco frambuesa 900 ml",
          "Magnum/Postre helado chocolate nuss 900 ml",
          "Carte Dor/Postre helado chocolate signature 1 L",
          "Viennetta Bresler/Postre helado vainilla chocolate 1 L",
          "Frutos Del Maipo/Salteado Chapsui Wok bolsa 500 g",
          "Frutos Del Maipo/Salteado Thai Wok bolsa 500 g",
          "Dove Men/Shampoo Fuerza Extrema 400 ml",
          "Ballerina/Shampoo Manzanilla doypack 750 ml",
          "Pantene/Shampoo Pro-V Hidratación Extrema 300 ml",
          "Pantene/Shampoo Pro-V Restauración 300 ml",
          "Pantene/Shampoo Pro-V Rizos Definidos 300 ml",
          "Dove/Shampoo Reconstrucción Completa 400 ml",
          "Dove/Super acondicionador 1 min regeneración extrema 170 ml",
          "Always/Toallas higiénicas Always Seca Ultrafina 24 un,",
          "Kotex/Toallas higiénicas Kotex Ultrafina suave 24 un,",
          "Ladysoft/Toallas higiénicas Ladysoft nocturna ultraseca 16 un,",
          "Nosotras/Toallas higiénicas Nosotras Sensitiv ultra invisible 24 un,",
          "Nosotras/Toallas higiénicas Nosotras Ultra Invisible malla 16 un,",
          "Always",
          "Aquafresh",
          "Axe",
          "Ballerina",
          "BiO",
          "Bresler",
          "Carte Dor",
          "Colgate",
          "Colun",
          "Cuisine & Co",
          "Dove",
          "Dove Men",
          "Frutos Del Maipo",
          "Kotex",
          "Ladysoft",
          "Magnum",
          "Mega",
          "Minuto Verde",
          "Nestlé",
          "Nido",
          "Nosotras",
          "Not Burger",
          "Not Milk",
          "Oral Fresh",
          "Oral-B",
          "PF",
          "Pantene",
          "Pepsodent",
          "Protex",
          "Rexona",
          "Rexona Clinical",
          "Rexona Men",
          "Rexona Men Clinical",
          "Sahne Nuss",
          "San Jorge",
          "Santa Marta",
          "Savory",
          "Simonds",
          "Soprole",
          "Super Beef",
          "Sureña",
          "Viennetta Bresler"
         ],
         "labels": [
          "Acondicionador Hidratación Intensa 400 ml",
          "Acondicionador Pro-V Hidratación 300 ml",
          "Acondicionador Pro-V restauración 300 ml",
          "Acondicionador Pro-V rizos definidos 300 ml",
          "Arvejas 500 g",
          "Choclo en granos 500 g",
          "Desodorante Clarify spray mujer 150 ml",
          "Desodorante Musk aerosol 150 ml",
          "Desodorante Olorblock spray 150 ml",
          "Desodorante Protection 5 spray 150 ml",
          "Desodorante aerosol Rexona Men Invisible 150 ml",
          "Desodorante aerosol Rexona Women Powder Dry 150 ml",
          "Desodorante crema Rexona Classic 48 g",
          "Desodorante crema Rexona Clean 48 g",
          "Desodorante crema Rexona Extra Dry 48 g",
          "Empanadas de pino 432 g",
          "Empanadas napolitanas 432 g",
          "Enjuague Bucal Menta Fresca 500 cc",
          "Enjuague bucal Oral Fresh menta fuerte 500 ml",
          "Ensalada Primavera bolsa 500 g",
          "Hamburguesa de vacuno 90 g",
          "Hamburguesa vacuno 90 g",
          "Hamburguesa vegana 100 g",
          "Hamburguesa vegana de garbanzos 100 g",
          "Hamburguesa vegana de lentejas 100 g",
          "Hamburguesa vegana de porotos 100 g",
          "Helado Carezza postre 1 L",
          "Helado Centella 3 sabores Multipack 21x52g",
          "Helado Chocolito Mini Multipack 10x50ml",
          "Helado Crocanty Mini Multipack 400ml (8x50ml)",
          "Helado Danky Mini Nogatonga Multipack 5x80ml",
          "Helado Frac vainilla multipack 5 un, 70 ml c/u",
          "Helado Frugelé Trisabor frambuesa limón manzana 1 L",
          "Helado Frugelé frutos rojos 1 L",
          "Helado Kit Kat Paleta Multipack 5x55ml",
          "Helado Kriko mini 6 un, 50 ml c/u",
          "Helado Magnum mini cookies & cream 5 un, 60 ml c/u",
          "Helado Mega Mini Frambuesa Multipack 5x60ml",
          "Helado Rolls Crocante 900 ml",
          "Helado Sahne Nuss Cono Mini Multipack 5x80ml",
          "Helado Sahne Nuss Paleta Mini Multipack 5x60ml",
          "Helado Savory Brick Trisabor Cassata 1L",
          "Helado Savory Chirimoya Alegre Cassata 1L",
          "Helado Savory Chocolate Suizo Cassata 1L",
          "Helado Savory Chocolate Suizo y Frutos del bosque 1L",
          "Helado Savory Lúcuma Cassata 1L",
          "Helado Savory Pasas al Ron Cassata 1L",
          "Helado Savory Piña Cassata 1L",
          "Helado Savory Pura Fruta Frambuesa Chocolate amargo Paleta Multipack 6x50ml",
          "Helado Savory Pura Fruta Multipack Frambuesa 6x50 ml",
          "Helado Savory Pura Fruta Multipack Mango 6x50ml",
          "Helado Savory Selva negra Cassata 1L",
          "Helado Savory Tres Leches Cassata 1L",
          "Helado Savory Vainilla Cassata 1L",
          "Helado Trisabor chocolate lúcuma y manjar 2,4 L",
          "Helado bresler pote cassata 2,4l",
          "Helado chocolate light 792 g",
          "Helado cookies and cream 792 g",
          "Helado fudge brownie 780 g",
          "Helado lúcuma con capas cobertura de chocolate 1 L",
          "Helado mini almendras 5 un, 60 ml c/u",
          "Helado multipack Frugelé 18 un, 60 ml c/u",
          "Helado strawberries 840 g",
          "Helado swirl caramel 836 g",
          "Helado vainilla bean 792 g",
          "Huevos grandes blancos Santa Marta 12 unid",
          "Jabón Dermo Care Hygienic 1,5 L",
          "Jabón barra aloe 3 un, 90 g c/u",
          "Jabón barra original 3 un, de 90 g",
          "Jabón líquido karité 700 ml",
          "Jabón líquido mandarina 700 ml",
          "Jabón líquido original 700 ml",
          "Leche Trencito Chocolate 200ml",
          "Leche cultivada probiótico y vitamina D chirimoya 1 L",
          "Leche cultivada probiótico y vitamina D frutilla 1 L",
          "Leche en Polvo Nido Forticrece Sin lactosa 1440g",
          "Mantequilla con sal 250 g",
          "Mantequilla sin sal 250 g",
          "Margarina Light Sureña 500 g",
          "Margarina Sureña 500 g",
          "Margarina mix pote 500 g",
          "Multipack 5 un, Mini Mega cookies & cream manjar 60 ml",
          "Notmilk chocolate 200 ml",
          "Pack 3 un, Pasta dental sabor menta 378 g",
          "Pack pasta dental sabor menta 158 g 2 un,",
          "Pasta dental Luminous White Brilliant 90 g",
          "Pasta dental Luminous White carbón activado 90 g",
          "Pasta dental Triple Acción xtra blancura 3 un, 75 ml c/u",
          "Pasta dental Triple Acción xtra frescura 3 un, 75 ml c/u",
          "Pasta dental Ultra Blanco 3 un, 90 g c/u",
          "Pasta dental Xtra Whitening 3 un, 90 g",
          "Pasta dental triple 3 un, 90 g",
          "Pizza española listo 465 g",
          "Pizza listo jamón-queso 465 g",
          "Pizza listo pepperoni 430 g",
          "Pizza vegetariana listo 465 g",
          "Pizzeta napolitana congelada 440 g",
          "Porotos verdes 350 g",
          "Postre helado cappuccino 1 L",
          "Postre helado chocolate blanco frambuesa 900 ml",
          "Postre helado chocolate nuss 900 ml",
          "Postre helado chocolate signature 1 L",
          "Postre helado vainilla chocolate 1 L",
          "Salteado Chapsui Wok bolsa 500 g",
          "Salteado Thai Wok bolsa 500 g",
          "Shampoo Fuerza Extrema 400 ml",
          "Shampoo Manzanilla doypack 750 ml",
          "Shampoo Pro-V Hidratación Extrema 300 ml",
          "Shampoo Pro-V Restauración 300 ml",
          "Shampoo Pro-V Rizos Definidos 300 ml",
          "Shampoo Reconstrucción Completa 400 ml",
          "Super acondicionador 1 min regeneración extrema 170 ml",
          "Toallas higiénicas Always Seca Ultrafina 24 un,",
          "Toallas higiénicas Kotex Ultrafina suave 24 un,",
          "Toallas higiénicas Ladysoft nocturna ultraseca 16 un,",
          "Toallas higiénicas Nosotras Sensitiv ultra invisible 24 un,",
          "Toallas higiénicas Nosotras Ultra Invisible malla 16 un,",
          "Always",
          "Aquafresh",
          "Axe",
          "Ballerina",
          "BiO",
          "Bresler",
          "Carte Dor",
          "Colgate",
          "Colun",
          "Cuisine & Co",
          "Dove",
          "Dove Men",
          "Frutos Del Maipo",
          "Kotex",
          "Ladysoft",
          "Magnum",
          "Mega",
          "Minuto Verde",
          "Nestlé",
          "Nido",
          "Nosotras",
          "Not Burger",
          "Not Milk",
          "Oral Fresh",
          "Oral-B",
          "PF",
          "Pantene",
          "Pepsodent",
          "Protex",
          "Rexona",
          "Rexona Clinical",
          "Rexona Men",
          "Rexona Men Clinical",
          "Sahne Nuss",
          "San Jorge",
          "Santa Marta",
          "Savory",
          "Simonds",
          "Soprole",
          "Super Beef",
          "Sureña",
          "Viennetta Bresler"
         ],
         "marker": {
          "coloraxis": "coloraxis",
          "colors": [
           1159,
           749,
           749,
           899,
           369,
           369,
           650,
           590,
           650,
           650,
           660,
           660,
           795,
           795,
           795,
           169,
           169,
           797,
           797,
           369,
           120,
           140,
           210,
           130,
           130,
           130,
           693,
           562,
           555,
           559,
           657,
           709,
           373,
           373,
           657,
           550,
           840,
           657,
           699,
           657,
           657,
           789,
           789,
           789,
           789,
           789,
           789,
           789,
           622,
           630,
           600,
           789,
           789,
           789,
           1090,
           1090,
           759,
           759,
           759,
           546,
           840,
           990,
           759,
           759,
           759,
           299,
           300,
           609,
           1000,
           890,
           890,
           890,
           76,
           379,
           379,
           4349,
           389,
           349,
           518,
           526,
           359,
           658,
           160,
           698,
           636,
           200,
           200,
           700,
           700,
           659,
           844,
           189,
           500,
           500,
           500,
           500,
           300,
           279,
           546,
           1070,
           1070,
           715,
           546,
           329,
           329,
           1009,
           409,
           749,
           749,
           899,
           1159,
           460,
           495,
           331,
           569,
           680,
           458,
           495,
           668.4407796101949,
           590,
           409,
           650,
           848.6104370948977,
           715,
           607.6783245221635,
           389,
           672.3993874977482,
           973.0865384615385,
           1009,
           343.8385518590998,
           331,
           569,
           968.848167539267,
           657,
           130,
           76,
           4349,
           590.6537785588753,
           210,
           160,
           797,
           797,
           500,
           805.2578222778473,
           724.1597289448209,
           609,
           660,
           795,
           660,
           795,
           657,
           140,
           299,
           708.073919298486,
           300,
           369.5420054200542,
           120,
           522.0306513409962,
           546
          ]
         },
         "name": "",
         "parents": [
          "Dove",
          "Pantene",
          "Pantene",
          "Pantene",
          "Frutos Del Maipo",
          "Frutos Del Maipo",
          "BiO",
          "Axe",
          "BiO",
          "BiO",
          "Rexona Men",
          "Rexona",
          "Rexona Clinical",
          "Rexona Men Clinical",
          "Rexona Clinical",
          "Cuisine & Co",
          "Cuisine & Co",
          "Oral Fresh",
          "Oral-B",
          "Frutos Del Maipo",
          "Super Beef",
          "San Jorge",
          "Not Burger",
          "Minuto Verde",
          "Minuto Verde",
          "Minuto Verde",
          "Bresler",
          "Savory",
          "Savory",
          "Savory",
          "Savory",
          "Bresler",
          "Bresler",
          "Bresler",
          "Savory",
          "Savory",
          "Magnum",
          "Mega",
          "Bresler",
          "Savory",
          "Sahne Nuss",
          "Savory",
          "Savory",
          "Savory",
          "Savory",
          "Savory",
          "Savory",
          "Savory",
          "Savory",
          "Savory",
          "Savory",
          "Savory",
          "Savory",
          "Savory",
          "Bresler",
          "Bresler",
          "Cuisine & Co",
          "Cuisine & Co",
          "Cuisine & Co",
          "Viennetta Bresler",
          "Magnum",
          "Bresler",
          "Cuisine & Co",
          "Cuisine & Co",
          "Cuisine & Co",
          "Santa Marta",
          "Simonds",
          "Protex",
          "Dove",
          "Dove",
          "Dove",
          "Dove",
          "Nestlé",
          "Soprole",
          "Soprole",
          "Nido",
          "Colun",
          "Soprole",
          "Sureña",
          "Sureña",
          "Cuisine & Co",
          "Savory",
          "Not Milk",
          "Aquafresh",
          "Aquafresh",
          "Colgate",
          "Colgate",
          "Colgate",
          "Colgate",
          "Colgate",
          "Pepsodent",
          "Pepsodent",
          "PF",
          "PF",
          "PF",
          "PF",
          "Cuisine & Co",
          "Frutos Del Maipo",
          "Viennetta Bresler",
          "Magnum",
          "Magnum",
          "Carte Dor",
          "Viennetta Bresler",
          "Frutos Del Maipo",
          "Frutos Del Maipo",
          "Dove Men",
          "Ballerina",
          "Pantene",
          "Pantene",
          "Pantene",
          "Dove",
          "Dove",
          "Always",
          "Kotex",
          "Ladysoft",
          "Nosotras",
          "Nosotras",
          "",
          "",
          "",
          "",
          "",
          "",
          "",
          "",
          "",
          "",
          "",
          "",
          "",
          "",
          "",
          "",
          "",
          "",
          "",
          "",
          "",
          "",
          "",
          "",
          "",
          "",
          "",
          "",
          "",
          "",
          "",
          "",
          "",
          "",
          "",
          "",
          "",
          "",
          "",
          "",
          "",
          ""
         ],
         "type": "treemap",
         "values": [
          1159,
          749,
          749,
          899,
          369,
          369,
          650,
          590,
          650,
          650,
          660,
          660,
          795,
          795,
          795,
          169,
          169,
          797,
          797,
          369,
          120,
          140,
          210,
          130,
          130,
          130,
          693,
          562,
          555,
          559,
          657,
          709,
          373,
          373,
          657,
          550,
          840,
          657,
          699,
          657,
          657,
          789,
          789,
          789,
          789,
          789,
          789,
          789,
          622,
          630,
          600,
          789,
          789,
          789,
          1090,
          1090,
          759,
          759,
          759,
          546,
          840,
          990,
          759,
          759,
          759,
          299,
          300,
          609,
          1000,
          890,
          890,
          890,
          76,
          379,
          379,
          4349,
          389,
          349,
          518,
          526,
          359,
          658,
          160,
          698,
          636,
          200,
          200,
          700,
          700,
          659,
          844,
          189,
          500,
          500,
          500,
          500,
          300,
          279,
          546,
          1070,
          1070,
          715,
          546,
          329,
          329,
          1009,
          409,
          749,
          749,
          899,
          1159,
          460,
          495,
          331,
          569,
          680,
          458,
          495,
          1334,
          590,
          409,
          1950,
          6017,
          715,
          2459,
          389,
          5551,
          6448,
          1009,
          2044,
          331,
          569,
          3820,
          657,
          390,
          76,
          4349,
          1138,
          210,
          160,
          797,
          797,
          2000,
          4794,
          1033,
          609,
          660,
          1590,
          660,
          795,
          657,
          140,
          299,
          14597,
          300,
          1107,
          120,
          1044,
          1638
         ]
        }
       ],
       "layout": {
        "coloraxis": {
         "colorbar": {
          "title": {
           "text": "Desconto"
          }
         },
         "colorscale": [
          [
           0,
           "rgb(103,0,31)"
          ],
          [
           0.1,
           "rgb(178,24,43)"
          ],
          [
           0.2,
           "rgb(214,96,77)"
          ],
          [
           0.3,
           "rgb(244,165,130)"
          ],
          [
           0.4,
           "rgb(253,219,199)"
          ],
          [
           0.5,
           "rgb(247,247,247)"
          ],
          [
           0.6,
           "rgb(209,229,240)"
          ],
          [
           0.7,
           "rgb(146,197,222)"
          ],
          [
           0.8,
           "rgb(67,147,195)"
          ],
          [
           0.9,
           "rgb(33,102,172)"
          ],
          [
           1,
           "rgb(5,48,97)"
          ]
         ]
        },
        "legend": {
         "tracegroupgap": 0
        },
        "template": {
         "data": {
          "bar": [
           {
            "error_x": {
             "color": "#2a3f5f"
            },
            "error_y": {
             "color": "#2a3f5f"
            },
            "marker": {
             "line": {
              "color": "#E5ECF6",
              "width": 0.5
             },
             "pattern": {
              "fillmode": "overlay",
              "size": 10,
              "solidity": 0.2
             }
            },
            "type": "bar"
           }
          ],
          "barpolar": [
           {
            "marker": {
             "line": {
              "color": "#E5ECF6",
              "width": 0.5
             },
             "pattern": {
              "fillmode": "overlay",
              "size": 10,
              "solidity": 0.2
             }
            },
            "type": "barpolar"
           }
          ],
          "carpet": [
           {
            "aaxis": {
             "endlinecolor": "#2a3f5f",
             "gridcolor": "white",
             "linecolor": "white",
             "minorgridcolor": "white",
             "startlinecolor": "#2a3f5f"
            },
            "baxis": {
             "endlinecolor": "#2a3f5f",
             "gridcolor": "white",
             "linecolor": "white",
             "minorgridcolor": "white",
             "startlinecolor": "#2a3f5f"
            },
            "type": "carpet"
           }
          ],
          "choropleth": [
           {
            "colorbar": {
             "outlinewidth": 0,
             "ticks": ""
            },
            "type": "choropleth"
           }
          ],
          "contour": [
           {
            "colorbar": {
             "outlinewidth": 0,
             "ticks": ""
            },
            "colorscale": [
             [
              0,
              "#0d0887"
             ],
             [
              0.1111111111111111,
              "#46039f"
             ],
             [
              0.2222222222222222,
              "#7201a8"
             ],
             [
              0.3333333333333333,
              "#9c179e"
             ],
             [
              0.4444444444444444,
              "#bd3786"
             ],
             [
              0.5555555555555556,
              "#d8576b"
             ],
             [
              0.6666666666666666,
              "#ed7953"
             ],
             [
              0.7777777777777778,
              "#fb9f3a"
             ],
             [
              0.8888888888888888,
              "#fdca26"
             ],
             [
              1,
              "#f0f921"
             ]
            ],
            "type": "contour"
           }
          ],
          "contourcarpet": [
           {
            "colorbar": {
             "outlinewidth": 0,
             "ticks": ""
            },
            "type": "contourcarpet"
           }
          ],
          "heatmap": [
           {
            "colorbar": {
             "outlinewidth": 0,
             "ticks": ""
            },
            "colorscale": [
             [
              0,
              "#0d0887"
             ],
             [
              0.1111111111111111,
              "#46039f"
             ],
             [
              0.2222222222222222,
              "#7201a8"
             ],
             [
              0.3333333333333333,
              "#9c179e"
             ],
             [
              0.4444444444444444,
              "#bd3786"
             ],
             [
              0.5555555555555556,
              "#d8576b"
             ],
             [
              0.6666666666666666,
              "#ed7953"
             ],
             [
              0.7777777777777778,
              "#fb9f3a"
             ],
             [
              0.8888888888888888,
              "#fdca26"
             ],
             [
              1,
              "#f0f921"
             ]
            ],
            "type": "heatmap"
           }
          ],
          "heatmapgl": [
           {
            "colorbar": {
             "outlinewidth": 0,
             "ticks": ""
            },
            "colorscale": [
             [
              0,
              "#0d0887"
             ],
             [
              0.1111111111111111,
              "#46039f"
             ],
             [
              0.2222222222222222,
              "#7201a8"
             ],
             [
              0.3333333333333333,
              "#9c179e"
             ],
             [
              0.4444444444444444,
              "#bd3786"
             ],
             [
              0.5555555555555556,
              "#d8576b"
             ],
             [
              0.6666666666666666,
              "#ed7953"
             ],
             [
              0.7777777777777778,
              "#fb9f3a"
             ],
             [
              0.8888888888888888,
              "#fdca26"
             ],
             [
              1,
              "#f0f921"
             ]
            ],
            "type": "heatmapgl"
           }
          ],
          "histogram": [
           {
            "marker": {
             "pattern": {
              "fillmode": "overlay",
              "size": 10,
              "solidity": 0.2
             }
            },
            "type": "histogram"
           }
          ],
          "histogram2d": [
           {
            "colorbar": {
             "outlinewidth": 0,
             "ticks": ""
            },
            "colorscale": [
             [
              0,
              "#0d0887"
             ],
             [
              0.1111111111111111,
              "#46039f"
             ],
             [
              0.2222222222222222,
              "#7201a8"
             ],
             [
              0.3333333333333333,
              "#9c179e"
             ],
             [
              0.4444444444444444,
              "#bd3786"
             ],
             [
              0.5555555555555556,
              "#d8576b"
             ],
             [
              0.6666666666666666,
              "#ed7953"
             ],
             [
              0.7777777777777778,
              "#fb9f3a"
             ],
             [
              0.8888888888888888,
              "#fdca26"
             ],
             [
              1,
              "#f0f921"
             ]
            ],
            "type": "histogram2d"
           }
          ],
          "histogram2dcontour": [
           {
            "colorbar": {
             "outlinewidth": 0,
             "ticks": ""
            },
            "colorscale": [
             [
              0,
              "#0d0887"
             ],
             [
              0.1111111111111111,
              "#46039f"
             ],
             [
              0.2222222222222222,
              "#7201a8"
             ],
             [
              0.3333333333333333,
              "#9c179e"
             ],
             [
              0.4444444444444444,
              "#bd3786"
             ],
             [
              0.5555555555555556,
              "#d8576b"
             ],
             [
              0.6666666666666666,
              "#ed7953"
             ],
             [
              0.7777777777777778,
              "#fb9f3a"
             ],
             [
              0.8888888888888888,
              "#fdca26"
             ],
             [
              1,
              "#f0f921"
             ]
            ],
            "type": "histogram2dcontour"
           }
          ],
          "mesh3d": [
           {
            "colorbar": {
             "outlinewidth": 0,
             "ticks": ""
            },
            "type": "mesh3d"
           }
          ],
          "parcoords": [
           {
            "line": {
             "colorbar": {
              "outlinewidth": 0,
              "ticks": ""
             }
            },
            "type": "parcoords"
           }
          ],
          "pie": [
           {
            "automargin": true,
            "type": "pie"
           }
          ],
          "scatter": [
           {
            "fillpattern": {
             "fillmode": "overlay",
             "size": 10,
             "solidity": 0.2
            },
            "type": "scatter"
           }
          ],
          "scatter3d": [
           {
            "line": {
             "colorbar": {
              "outlinewidth": 0,
              "ticks": ""
             }
            },
            "marker": {
             "colorbar": {
              "outlinewidth": 0,
              "ticks": ""
             }
            },
            "type": "scatter3d"
           }
          ],
          "scattercarpet": [
           {
            "marker": {
             "colorbar": {
              "outlinewidth": 0,
              "ticks": ""
             }
            },
            "type": "scattercarpet"
           }
          ],
          "scattergeo": [
           {
            "marker": {
             "colorbar": {
              "outlinewidth": 0,
              "ticks": ""
             }
            },
            "type": "scattergeo"
           }
          ],
          "scattergl": [
           {
            "marker": {
             "colorbar": {
              "outlinewidth": 0,
              "ticks": ""
             }
            },
            "type": "scattergl"
           }
          ],
          "scattermapbox": [
           {
            "marker": {
             "colorbar": {
              "outlinewidth": 0,
              "ticks": ""
             }
            },
            "type": "scattermapbox"
           }
          ],
          "scatterpolar": [
           {
            "marker": {
             "colorbar": {
              "outlinewidth": 0,
              "ticks": ""
             }
            },
            "type": "scatterpolar"
           }
          ],
          "scatterpolargl": [
           {
            "marker": {
             "colorbar": {
              "outlinewidth": 0,
              "ticks": ""
             }
            },
            "type": "scatterpolargl"
           }
          ],
          "scatterternary": [
           {
            "marker": {
             "colorbar": {
              "outlinewidth": 0,
              "ticks": ""
             }
            },
            "type": "scatterternary"
           }
          ],
          "surface": [
           {
            "colorbar": {
             "outlinewidth": 0,
             "ticks": ""
            },
            "colorscale": [
             [
              0,
              "#0d0887"
             ],
             [
              0.1111111111111111,
              "#46039f"
             ],
             [
              0.2222222222222222,
              "#7201a8"
             ],
             [
              0.3333333333333333,
              "#9c179e"
             ],
             [
              0.4444444444444444,
              "#bd3786"
             ],
             [
              0.5555555555555556,
              "#d8576b"
             ],
             [
              0.6666666666666666,
              "#ed7953"
             ],
             [
              0.7777777777777778,
              "#fb9f3a"
             ],
             [
              0.8888888888888888,
              "#fdca26"
             ],
             [
              1,
              "#f0f921"
             ]
            ],
            "type": "surface"
           }
          ],
          "table": [
           {
            "cells": {
             "fill": {
              "color": "#EBF0F8"
             },
             "line": {
              "color": "white"
             }
            },
            "header": {
             "fill": {
              "color": "#C8D4E3"
             },
             "line": {
              "color": "white"
             }
            },
            "type": "table"
           }
          ]
         },
         "layout": {
          "annotationdefaults": {
           "arrowcolor": "#2a3f5f",
           "arrowhead": 0,
           "arrowwidth": 1
          },
          "autotypenumbers": "strict",
          "coloraxis": {
           "colorbar": {
            "outlinewidth": 0,
            "ticks": ""
           }
          },
          "colorscale": {
           "diverging": [
            [
             0,
             "#8e0152"
            ],
            [
             0.1,
             "#c51b7d"
            ],
            [
             0.2,
             "#de77ae"
            ],
            [
             0.3,
             "#f1b6da"
            ],
            [
             0.4,
             "#fde0ef"
            ],
            [
             0.5,
             "#f7f7f7"
            ],
            [
             0.6,
             "#e6f5d0"
            ],
            [
             0.7,
             "#b8e186"
            ],
            [
             0.8,
             "#7fbc41"
            ],
            [
             0.9,
             "#4d9221"
            ],
            [
             1,
             "#276419"
            ]
           ],
           "sequential": [
            [
             0,
             "#0d0887"
            ],
            [
             0.1111111111111111,
             "#46039f"
            ],
            [
             0.2222222222222222,
             "#7201a8"
            ],
            [
             0.3333333333333333,
             "#9c179e"
            ],
            [
             0.4444444444444444,
             "#bd3786"
            ],
            [
             0.5555555555555556,
             "#d8576b"
            ],
            [
             0.6666666666666666,
             "#ed7953"
            ],
            [
             0.7777777777777778,
             "#fb9f3a"
            ],
            [
             0.8888888888888888,
             "#fdca26"
            ],
            [
             1,
             "#f0f921"
            ]
           ],
           "sequentialminus": [
            [
             0,
             "#0d0887"
            ],
            [
             0.1111111111111111,
             "#46039f"
            ],
            [
             0.2222222222222222,
             "#7201a8"
            ],
            [
             0.3333333333333333,
             "#9c179e"
            ],
            [
             0.4444444444444444,
             "#bd3786"
            ],
            [
             0.5555555555555556,
             "#d8576b"
            ],
            [
             0.6666666666666666,
             "#ed7953"
            ],
            [
             0.7777777777777778,
             "#fb9f3a"
            ],
            [
             0.8888888888888888,
             "#fdca26"
            ],
            [
             1,
             "#f0f921"
            ]
           ]
          },
          "colorway": [
           "#636efa",
           "#EF553B",
           "#00cc96",
           "#ab63fa",
           "#FFA15A",
           "#19d3f3",
           "#FF6692",
           "#B6E880",
           "#FF97FF",
           "#FECB52"
          ],
          "font": {
           "color": "#2a3f5f"
          },
          "geo": {
           "bgcolor": "white",
           "lakecolor": "white",
           "landcolor": "#E5ECF6",
           "showlakes": true,
           "showland": true,
           "subunitcolor": "white"
          },
          "hoverlabel": {
           "align": "left"
          },
          "hovermode": "closest",
          "mapbox": {
           "style": "light"
          },
          "paper_bgcolor": "white",
          "plot_bgcolor": "#E5ECF6",
          "polar": {
           "angularaxis": {
            "gridcolor": "white",
            "linecolor": "white",
            "ticks": ""
           },
           "bgcolor": "#E5ECF6",
           "radialaxis": {
            "gridcolor": "white",
            "linecolor": "white",
            "ticks": ""
           }
          },
          "scene": {
           "xaxis": {
            "backgroundcolor": "#E5ECF6",
            "gridcolor": "white",
            "gridwidth": 2,
            "linecolor": "white",
            "showbackground": true,
            "ticks": "",
            "zerolinecolor": "white"
           },
           "yaxis": {
            "backgroundcolor": "#E5ECF6",
            "gridcolor": "white",
            "gridwidth": 2,
            "linecolor": "white",
            "showbackground": true,
            "ticks": "",
            "zerolinecolor": "white"
           },
           "zaxis": {
            "backgroundcolor": "#E5ECF6",
            "gridcolor": "white",
            "gridwidth": 2,
            "linecolor": "white",
            "showbackground": true,
            "ticks": "",
            "zerolinecolor": "white"
           }
          },
          "shapedefaults": {
           "line": {
            "color": "#2a3f5f"
           }
          },
          "ternary": {
           "aaxis": {
            "gridcolor": "white",
            "linecolor": "white",
            "ticks": ""
           },
           "baxis": {
            "gridcolor": "white",
            "linecolor": "white",
            "ticks": ""
           },
           "bgcolor": "#E5ECF6",
           "caxis": {
            "gridcolor": "white",
            "linecolor": "white",
            "ticks": ""
           }
          },
          "title": {
           "x": 0.05
          },
          "xaxis": {
           "automargin": true,
           "gridcolor": "white",
           "linecolor": "white",
           "ticks": "",
           "title": {
            "standoff": 15
           },
           "zerolinecolor": "white",
           "zerolinewidth": 2
          },
          "yaxis": {
           "automargin": true,
           "gridcolor": "white",
           "linecolor": "white",
           "ticks": "",
           "title": {
            "standoff": 15
           },
           "zerolinecolor": "white",
           "zerolinewidth": 2
          }
         }
        },
        "title": {
         "text": "Média de Desconto por Marca e Produto"
        }
       }
      }
     },
     "metadata": {},
     "output_type": "display_data"
    }
   ],
   "source": [
    "# Agrupa por Marca e Produto\n",
    "df_filtrado = df[df[\"Desconto\"].notna() & (df[\"Desconto\"] > 0)]\n",
    "df_map = df_filtrado.groupby([\"Marca\", \"title\"])[\"Desconto\"].mean().reset_index()\n",
    "\n",
    "# Gera mapa tipo \"treemap\"\n",
    "fig = px.treemap(\n",
    "    df_map,\n",
    "    path=[\"Marca\", \"title\"],\n",
    "    values=\"Desconto\",\n",
    "    color=\"Desconto\",\n",
    "    color_continuous_scale=\"RdBu\",\n",
    "    title=\"Média de Desconto por Marca e Produto\"\n",
    ")\n",
    "fig.show()\n"
   ]
  }
 ],
 "metadata": {
  "colab": {
   "provenance": []
  },
  "kernelspec": {
   "display_name": "base",
   "language": "python",
   "name": "python3"
  },
  "language_info": {
   "codemirror_mode": {
    "name": "ipython",
    "version": 3
   },
   "file_extension": ".py",
   "mimetype": "text/x-python",
   "name": "python",
   "nbconvert_exporter": "python",
   "pygments_lexer": "ipython3",
   "version": "3.13.5"
  }
 },
 "nbformat": 4,
 "nbformat_minor": 0
}
